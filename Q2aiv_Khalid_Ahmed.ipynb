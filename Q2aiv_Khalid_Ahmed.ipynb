{
  "metadata": {
    "kernelspec": {
      "name": "python",
      "display_name": "Python (Pyodide)",
      "language": "python"
    },
    "language_info": {
      "codemirror_mode": {
        "name": "python",
        "version": 3
      },
      "file_extension": ".py",
      "mimetype": "text/x-python",
      "name": "python",
      "nbconvert_exporter": "python",
      "pygments_lexer": "ipython3",
      "version": "3.8"
    }
  },
  "nbformat_minor": 5,
  "nbformat": 4,
  "cells": [
    {
      "cell_type": "markdown",
      "source": "4 Tasks used to solve Q2ai algorithm when modifying the function show_flashcard",
      "metadata": {},
      "id": "8e375c40-9d87-4c1f-8e4f-1479d49e5023"
    },
    {
      "cell_type": "code",
      "source": "\"\"\" Task 1 - Inverting the glossary\nInverting the dictionary called glossary is done by swapping the keys with values in a key-value pair, so the value\nbecomes the key in a new dictionary by using glossary.items().\n\"\"\"\nglossary = {'word1':'definition1',\n            'word2':'definition2',\n            'word3':'definition3'}\ninvert_glossary = {value:key for key, value in glossary.items()}\nprint(invert_glossary)\n",
      "metadata": {},
      "execution_count": 3,
      "outputs": [
        {
          "name": "stdout",
          "output_type": "stream",
          "text": "{'definition1': 'word1', 'definition2': 'word2', 'definition3': 'word3'}\n"
        }
      ],
      "id": "a79237fd-3ec5-492b-bd8c-da405a0a8286"
    },
    {
      "cell_type": "markdown",
      "source": "Task 1:\n\nSource:\nhttps://dev.to/petercour/swap-keys-and-values-in-a-python-dictionary-1njn\n\nDifficulties:\nUsing glossary.values() function for the calling the definition was providing issues when seeing what entry\ncorresponds to that random definition. Inverting the dictionary made it easier by remaining to define a key\nin a key-value pair and not vice-versa.\n\nLesson learned:\nProblems arising from glossary.values() function can be used to make a list, but cannot be\nused to search what key is in a dictionary by using the value in a key-value pair.\n",
      "metadata": {},
      "id": "46cd2c6a-8a33-49e8-9fe8-f2f7a18c7cc3"
    },
    {
      "cell_type": "code",
      "source": "\"\"\" Task 2 - Setting 2 lists using glossary and inverted_glossary\nNow that both dictionaries allows entries with its definition, and vice versa as keys.\nUsing glossary.keys() function to store entries in a list, and also inverted_glossary.keys to store definitions in a\nlist.\n\"\"\"\nentry_list = list(glossary.keys())\ndefinition_list = list(invert_glossary.keys())\nprint(entry_list)\nprint(definition_list)",
      "metadata": {},
      "execution_count": 5,
      "outputs": [
        {
          "name": "stdout",
          "output_type": "stream",
          "text": "['word1', 'word2', 'word3']\n\n['definition1', 'definition2', 'definition3']\n"
        }
      ],
      "id": "f1c827dd-b399-4930-a7f2-41e168585808"
    },
    {
      "cell_type": "markdown",
      "source": "Task 2:\n\nSource:\nBlock 3 chapter 2 part 5\nActivity 2.28\nPage 106\n\nDifficulties:\nNo difficulties as using two dictionaries and using dictionary.keys() function simplifies the process.\n\nLesson Learned:\nUsing the dictionary.keys() and dictionary.value can be used for mapping different type of data I assume.\nUsing csv reader you can use these functions for turning data from a txt file into a dictionary.",
      "metadata": {},
      "id": "8d5f1461-101e-458b-8e75-05c5cc85f92d"
    },
    {
      "cell_type": "code",
      "source": "\"\"\" Task 3 - Simulate coin toss for either entry or definition to be displayed first.\nUsing the choice() function we can use to randomize both the entries and definition to 2 variables and store in a list.\nWe can use the choice() function again to randomize the variables in that list and set it to a new variable called\nrandom_flashcard which will be useful for the next task.\n\"\"\"\nfrom random import *\n\nrandom_entry = choice(entry_list)\n\nrandom_definition = choice(definition_list)\n\nflashcard_list = [random_entry, random_definition]\n\nrandom_flashcard = choice(flashcard_list)\n\nprint(random_flashcard)",
      "metadata": {},
      "execution_count": 6,
      "outputs": [
        {
          "name": "stdout",
          "output_type": "stream",
          "text": "word1\n"
        }
      ],
      "id": "75abe7e3-4ba3-4547-8f87-0add129c6c9f"
    },
    {
      "cell_type": "markdown",
      "source": "Task 3:\n\nSource: \nBlock 3 chapter 2 part 5\nActivity 2.28\nPage 106\n\nDifficulties: \nUsing the choice() function by on two lists, and putting the result in a single list with two variables,\nso the final output of the function derives from this list. Without this list, using the choice function() will be \nharder to simulate a coin toss with two sides, as this list only has 2 randomised variables.\n\nLesson Learned:\nthe random library that is imported also allows for other random functions like random.choices() which can be used \nto produce random choice with different parameters, different types of result.",
      "metadata": {},
      "id": "6c01b25e-9285-4177-bd0e-ba2671a883ec"
    },
    {
      "cell_type": "code",
      "source": "\"\"\"\nTask 4 - Distinguishing whether to ask the user to press the return button display the definition for the\ncorresponding entry, or to display the entry for the corresponding definition by using the if loops. \nIf the random_flashcard matches the random entry then it will ask for the definition.\nIf the random_flashcard matches the random definition then it will ask for the entry.\n\"\"\"\nif random_flashcard == random_entry:\n    input('Press return to see the definition')\n    print(glossary[random_entry])\n\nelif random_flashcard == random_definition:\n    input('Press return to see the entry')\n    print(invert_glossary[random_definition])",
      "metadata": {
        "trusted": true
      },
      "execution_count": 1,
      "outputs": [
        {
          "ename": "<class 'NameError'>",
          "evalue": "name 'random_flashcard' is not defined",
          "traceback": [
            "\u001b[0;31m---------------------------------------------------------------------------\u001b[0m",
            "\u001b[0;31mNameError\u001b[0m                                 Traceback (most recent call last)",
            "Cell \u001b[0;32mIn [1], line 7\u001b[0m\n\u001b[1;32m      1\u001b[0m \u001b[38;5;124;03m\"\"\"\u001b[39;00m\n\u001b[1;32m      2\u001b[0m \u001b[38;5;124;03mTask 4 - Distinguishing whether to ask the user to press the return button display the definition for the\u001b[39;00m\n\u001b[1;32m      3\u001b[0m \u001b[38;5;124;03mcorresponding entry, or to display the entry for the corresponding definition by using the if loops. \u001b[39;00m\n\u001b[1;32m      4\u001b[0m \u001b[38;5;124;03mIf the random_flashcard matches the random entry then it will ask for the definition.\u001b[39;00m\n\u001b[1;32m      5\u001b[0m \u001b[38;5;124;03mIf the random_flashcard matches the random definition then it will ask for the entry.\u001b[39;00m\n\u001b[1;32m      6\u001b[0m \u001b[38;5;124;03m\"\"\"\u001b[39;00m\n\u001b[0;32m----> 7\u001b[0m \u001b[38;5;28;01mif\u001b[39;00m \u001b[43mrandom_flashcard\u001b[49m \u001b[38;5;241m==\u001b[39m random_entry:\n\u001b[1;32m      8\u001b[0m     \u001b[38;5;28minput\u001b[39m(\u001b[38;5;124m'\u001b[39m\u001b[38;5;124mPress return to see the definition\u001b[39m\u001b[38;5;124m'\u001b[39m)\n\u001b[1;32m      9\u001b[0m     \u001b[38;5;28mprint\u001b[39m(glossary[random_entry])\n",
            "\u001b[0;31mNameError\u001b[0m: name 'random_flashcard' is not defined"
          ],
          "output_type": "error"
        }
      ],
      "id": "b67d06c5-229b-40c9-bf31-21e100124aa2"
    },
    {
      "cell_type": "markdown",
      "source": "Task 4:\n\nSource:\nNo source\n\nDifficulties: This task proved to be more difficult as the answer used here is dependant on the result of task 1 and\ntask 3.\n\nLesson learned:\nSince we are only defining key in key-value pair, the result was error free when using these if loops for different print\nstatements depending on what the outputs in task 3 are.",
      "metadata": {},
      "id": "06489b1f-ccc7-4df3-b5f3-04cb5bebcb07"
    }
  ]
}