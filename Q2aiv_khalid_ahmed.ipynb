{
 "cells": [
  {
   "cell_type": "markdown",
   "id": "8e375c40-9d87-4c1f-8e4f-1479d49e5023",
   "metadata": {},
   "source": [
    "4 Tasks used to solve Q2ai algorithm when modifying the function show_flashcard"
   ]
  },
  {
   "cell_type": "code",
   "execution_count": 3,
   "id": "a79237fd-3ec5-492b-bd8c-da405a0a8286",
   "metadata": {},
   "outputs": [
    {
     "name": "stdout",
     "output_type": "stream",
     "text": [
      "{'definition1': 'word1', 'definition2': 'word2', 'definition3': 'word3'}\n"
     ]
    }
   ],
   "source": [
    "\"\"\" Task 1 - Inverting the glossary\n",
    "Inverting the dictionary called glossary is done by swapping the keys with values in a key-value pair, so the value\n",
    "becomes the key in a new dictionary by using glossary.items().\n",
    "\"\"\"\n",
    "glossary = {'word1':'definition1',\n",
    "            'word2':'definition2',\n",
    "            'word3':'definition3'}\n",
    "invert_glossary = {value:key for key, value in glossary.items()}\n",
    "print(invert_glossary)\n"
   ]
  },
  {
   "cell_type": "markdown",
   "id": "46cd2c6a-8a33-49e8-9fe8-f2f7a18c7cc3",
   "metadata": {},
   "source": [
    "Task 1:\n",
    "\n",
    "Source:\n",
    "https://dev.to/petercour/swap-keys-and-values-in-a-python-dictionary-1njn\n",
    "\n",
    "Difficulties:\n",
    "Using glossary.values() function for the calling the definition was providing issues when seeing what entry\n",
    "corresponds to that random definition. Inverting the dictionary made it easier by remaining to define a key\n",
    "in a key-value pair and not vice-versa.\n",
    "\n",
    "Lesson learned:\n",
    "Problems arising from glossary.values() function can be used to make a list, but cannot be\n",
    "used to search what key is in a dictionary by using the value in a key-value pair.\n"
   ]
  },
  {
   "cell_type": "code",
   "execution_count": 5,
   "id": "f1c827dd-b399-4930-a7f2-41e168585808",
   "metadata": {},
   "outputs": [
    {
     "name": "stdout",
     "output_type": "stream",
     "text": [
      "['word1', 'word2', 'word3']\n",
      "['definition1', 'definition2', 'definition3']\n"
     ]
    }
   ],
   "source": [
    "\"\"\" Task 2 - Setting 2 lists using glossary and inverted_glossary\n",
    "Now that both dictionaries allows entries with its definition, and vice versa as keys.\n",
    "Using glossary.keys() function to store entries in a list, and also inverted_glossary.keys to store definitions in a\n",
    "list.\n",
    "\"\"\"\n",
    "word_list = list(glossary.keys())\n",
    "definition_list = list(invert_glossary.keys())\n",
    "print(word_list)\n",
    "print(definition_list)"
   ]
  },
  {
   "cell_type": "markdown",
   "id": "8d5f1461-101e-458b-8e75-05c5cc85f92d",
   "metadata": {},
   "source": [
    "Task 2:\n",
    "\n",
    "Source:\n",
    "Block 3 chapter 2 part 5\n",
    "Activity 2.28\n",
    "Page 106\n",
    "\n",
    "Difficulties:\n",
    "No difficulties as using two dictionaries and using dictionary.keys() function simplifies the process.\n",
    "\n",
    "Lesson Learned:\n",
    "Using the dictionary.keys() and dictionary.value can be used for mapping different type of data I assume.\n",
    "Using csv reader you can use these functions for turning data from a txt file into a dictionary."
   ]
  },
  {
   "cell_type": "code",
   "execution_count": 6,
   "id": "75abe7e3-4ba3-4547-8f87-0add129c6c9f",
   "metadata": {},
   "outputs": [
    {
     "name": "stdout",
     "output_type": "stream",
     "text": [
      "word1\n"
     ]
    }
   ],
   "source": [
    "\"\"\" Task 3 - Simulate coin toss for either word or definition to be displayed first.\n",
    "Using the choice() function we can use to randomize both the words and definition to 2 variables and store in a list.\n",
    "We can use the choice() function again to randomize the variables in that list and set it to a new variable called\n",
    "random_flashcard which will be useful for the next task.\n",
    "\"\"\"\n",
    "from random import *\n",
    "\n",
    "random_word = choice(word_list)\n",
    "\n",
    "random_definition = choice(definition_list)\n",
    "\n",
    "random_entry = [random_word, random_definition]\n",
    "\n",
    "random_flashcard = choice(random_entry)\n",
    "\n",
    "print(random_flashcard)"
   ]
  },
  {
   "cell_type": "markdown",
   "id": "6c01b25e-9285-4177-bd0e-ba2671a883ec",
   "metadata": {},
   "source": [
    "Task 3:\n",
    "\n",
    "Source: \n",
    "Block 3 chapter 2 part 5\n",
    "Activity 2.28\n",
    "Page 106\n",
    "\n",
    "Difficulties: \n",
    "Using the choice() function by on two lists, and putting the result in a single list with two variables,\n",
    "so the final output of the function derives from this list. Without this list, using the choice function() will be \n",
    "harder to simulate a coin toss with two sides, as this list only has 2 randomised variables.\n",
    "\n",
    "Lesson Learned:\n",
    "the random library that is imported also allows for other random functions like random.choices() which can be used \n",
    "to produce random choice with different parameters, different types of result."
   ]
  },
  {
   "cell_type": "code",
   "execution_count": 7,
   "id": "b67d06c5-229b-40c9-bf31-21e100124aa2",
   "metadata": {},
   "outputs": [
    {
     "name": "stdin",
     "output_type": "stream",
     "text": [
      "Press return to see the definition \n"
     ]
    },
    {
     "name": "stdout",
     "output_type": "stream",
     "text": [
      "definition1\n"
     ]
    }
   ],
   "source": [
    "\"\"\"\n",
    "Task 4 - Distinguishing whether to ask the user to press the return button display the definition for the\n",
    "corresponding entry, or to display the entry for the corresponding definition by using the if loops. \n",
    "If the random_flashcard matches the random entry then it will ask for the definition.\n",
    "If the random_flashcard matches the random definition then it will ask for the entry.\n",
    "\"\"\"\n",
    "if random_flashcard == random_word:\n",
    "    input('Press return to see the definition')\n",
    "    print(glossary[random_word])\n",
    "\n",
    "elif random_flashcard == random_definition:\n",
    "    input('Press return to see the entry')\n",
    "    print(invert_glossary[random_definition])"
   ]
  },
  {
   "cell_type": "markdown",
   "id": "06489b1f-ccc7-4df3-b5f3-04cb5bebcb07",
   "metadata": {},
   "source": [
    "Task 4:\n",
    "\n",
    "Source:\n",
    "No source\n",
    "\n",
    "Difficulties: This task proved to be more difficult as the answer used here is dependant on the result of task 1 and\n",
    "task 3.\n",
    "\n",
    "Lesson learned:\n",
    "Since we are only defining key in key-value pair, the result was error free when using these if loops for different print\n",
    "statements depending on what the outputs in task 3 are."
   ]
  }
 ],
 "metadata": {
  "kernelspec": {
   "display_name": "Python 3 (ipykernel)",
   "language": "python",
   "name": "python3"
  },
  "language_info": {
   "codemirror_mode": {
    "name": "ipython",
    "version": 3
   },
   "file_extension": ".py",
   "mimetype": "text/x-python",
   "name": "python",
   "nbconvert_exporter": "python",
   "pygments_lexer": "ipython3",
   "version": "3.10.5"
  }
 },
 "nbformat": 4,
 "nbformat_minor": 5
}
